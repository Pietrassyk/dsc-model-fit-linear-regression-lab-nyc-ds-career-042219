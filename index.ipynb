{
 "cells": [
  {
   "cell_type": "markdown",
   "metadata": {},
   "source": [
    "# Model Fit in Linear Regression - Lab\n",
    "\n",
    "## Introduction\n",
    "In this lab, you'll learn how to evaluate your model results, and you'll learn methods to select the appropriate features using stepwise selection.\n",
    "\n",
    "## Objectives\n",
    "You will be able to:\n",
    "* Analyze the results of regression and R-squared and adjusted-R-squared \n",
    "* Understand and apply forward and backward predictor selection\n",
    "\n",
    "## The Boston Housing Data once more\n",
    "\n",
    "We pre-processed the Boston Housing Data the same way we did before:\n",
    "\n",
    "- We dropped \"ZN\" and \"NOX\" completely\n",
    "- We categorized \"RAD\" in 3 bins and \"TAX\" in 4 bins\n",
    "- We used min-max-scaling on \"B\", \"CRIM\" and \"DIS\" (and logtransformed all of them first, except \"B\")\n",
    "- We used standardization on \"AGE\", \"INDUS\", \"LSTAT\" and \"PTRATIO\" (and logtransformed all of them first, except for \"AGE\") "
   ]
  },
  {
   "cell_type": "code",
   "execution_count": 1,
   "metadata": {},
   "outputs": [],
   "source": [
    "import pandas as pd\n",
    "import numpy as np\n",
    "from sklearn.datasets import load_boston\n",
    "boston = load_boston()\n",
    "\n",
    "boston_features = pd.DataFrame(boston.data, columns = boston.feature_names)\n",
    "boston_features = boston_features.drop([\"NOX\",\"ZN\"],axis=1)\n",
    "\n",
    "# first, create bins for based on the values observed. 3 values will result in 2 bins\n",
    "bins = [0,6,  24]\n",
    "bins_rad = pd.cut(boston_features['RAD'], bins)\n",
    "bins_rad = bins_rad.cat.as_unordered()\n",
    "\n",
    "# first, create bins for based on the values observed. 4 values will result in 3 bins\n",
    "bins = [0, 270, 360, 712]\n",
    "bins_tax = pd.cut(boston_features['TAX'], bins)\n",
    "bins_tax = bins_tax.cat.as_unordered()\n",
    "\n",
    "tax_dummy = pd.get_dummies(bins_tax, prefix=\"TAX\")\n",
    "rad_dummy = pd.get_dummies(bins_rad, prefix=\"RAD\")\n",
    "boston_features = boston_features.drop([\"RAD\",\"TAX\"], axis=1)\n",
    "boston_features = pd.concat([boston_features, rad_dummy, tax_dummy], axis=1)\n",
    "\n",
    "age = boston_features[\"AGE\"]\n",
    "b = boston_features[\"B\"]\n",
    "logcrim = np.log(boston_features[\"CRIM\"])\n",
    "logdis = np.log(boston_features[\"DIS\"])\n",
    "logindus = np.log(boston_features[\"INDUS\"])\n",
    "loglstat = np.log(boston_features[\"LSTAT\"])\n",
    "logptratio = np.log(boston_features[\"PTRATIO\"])\n",
    "\n",
    "# minmax scaling\n",
    "boston_features[\"B\"] = (b-min(b))/(max(b)-min(b))\n",
    "boston_features[\"CRIM\"] = (logcrim-min(logcrim))/(max(logcrim)-min(logcrim))\n",
    "boston_features[\"DIS\"] = (logdis-min(logdis))/(max(logdis)-min(logdis))\n",
    "\n",
    "#standardization\n",
    "boston_features[\"AGE\"] = (age-np.mean(age))/np.sqrt(np.var(age))\n",
    "boston_features[\"INDUS\"] = (logindus-np.mean(logindus))/np.sqrt(np.var(logindus))\n",
    "boston_features[\"LSTAT\"] = (loglstat-np.mean(loglstat))/np.sqrt(np.var(loglstat))\n",
    "boston_features[\"PTRATIO\"] = (logptratio-np.mean(logptratio))/(np.sqrt(np.var(logptratio)))"
   ]
  },
  {
   "cell_type": "markdown",
   "metadata": {},
   "source": [
    "## Perform stepwise selection"
   ]
  },
  {
   "cell_type": "markdown",
   "metadata": {},
   "source": [
    "The code for stepwise selection is copied below."
   ]
  },
  {
   "cell_type": "code",
   "execution_count": 2,
   "metadata": {},
   "outputs": [],
   "source": [
    "import statsmodels.api as sm\n",
    "\n",
    "def stepwise_selection(X, y, \n",
    "                       initial_list=[], \n",
    "                       threshold_in=0.01, \n",
    "                       threshold_out = 0.05, \n",
    "                       verbose=True):\n",
    "    \"\"\" Perform a forward-backward feature selection \n",
    "    based on p-value from statsmodels.api.OLS\n",
    "    Arguments:\n",
    "        X - pandas.DataFrame with candidate features\n",
    "        y - list-like with the target\n",
    "        initial_list - list of features to start with (column names of X)\n",
    "        threshold_in - include a feature if its p-value < threshold_in\n",
    "        threshold_out - exclude a feature if its p-value > threshold_out\n",
    "        verbose - whether to print the sequence of inclusions and exclusions\n",
    "    Returns: list of selected features \n",
    "    Always set threshold_in < threshold_out to avoid infinite looping.\n",
    "    See https://en.wikipedia.org/wiki/Stepwise_regression for the details\n",
    "    \"\"\"\n",
    "    included = list(initial_list)\n",
    "    while True:\n",
    "        changed=False\n",
    "        # forward step\n",
    "        excluded = list(set(X.columns)-set(included))\n",
    "        new_pval = pd.Series(index=excluded)\n",
    "        for new_column in excluded:\n",
    "            model = sm.OLS(y, sm.add_constant(pd.DataFrame(X[included+[new_column]]))).fit()\n",
    "            new_pval[new_column] = model.pvalues[new_column]\n",
    "        best_pval = new_pval.min()\n",
    "        if best_pval < threshold_in:\n",
    "            best_feature = new_pval.idxmin()\n",
    "            included.append(best_feature)\n",
    "            changed=True\n",
    "            if verbose:\n",
    "                print('Add  {:30} with p-value {:.6}'.format(best_feature, best_pval))\n",
    "\n",
    "        # backward step\n",
    "        model = sm.OLS(y, sm.add_constant(pd.DataFrame(X[included]))).fit()\n",
    "        # use all coefs except intercept\n",
    "        pvalues = model.pvalues.iloc[1:]\n",
    "        worst_pval = pvalues.max() # null if pvalues is empty\n",
    "        if worst_pval > threshold_out:\n",
    "            changed=True\n",
    "            worst_feature = pvalues.argmax()\n",
    "            included.remove(worst_feature)\n",
    "            if verbose:\n",
    "                print('Drop {:30} with p-value {:.6}'.format(worst_feature, worst_pval))\n",
    "        if not changed:\n",
    "            break\n",
    "    return included"
   ]
  },
  {
   "cell_type": "code",
   "execution_count": 19,
   "metadata": {},
   "outputs": [
    {
     "name": "stdout",
     "output_type": "stream",
     "text": [
      "Add  DIS                            with p-value 2.82884e-90\n",
      "Add  RAD_(6, 24]                    with p-value 6.953e-72\n",
      "Add  RAD_(0, 6]                     with p-value 1.4733e-51\n",
      "Add  INDUS                          with p-value 2.24098e-21\n",
      "Add  B                              with p-value 3.07968e-09\n",
      "Add  LSTAT                          with p-value 1.90996e-06\n",
      "Add  TAX_(0, 270]                   with p-value 0.00039981\n"
     ]
    }
   ],
   "source": [
    "predictors = boston_features.drop(\"CRIM\", axis = 1)\n",
    "y = boston_features[\"CRIM\"]\n",
    "initial_list1 = list(X.columns)\n",
    "feature_list = stepwise_selection(predictors, y, \n",
    "                       initial_list=[], \n",
    "                       threshold_in=0.01, \n",
    "                       threshold_out = 0.05, \n",
    "                       verbose=True)"
   ]
  },
  {
   "cell_type": "markdown",
   "metadata": {},
   "source": [
    "### Build the final model again in Statsmodels"
   ]
  },
  {
   "cell_type": "code",
   "execution_count": 20,
   "metadata": {},
   "outputs": [],
   "source": [
    "import statsmodels.api as sm\n",
    "final_model = sm.OLS(boston_features[\"CRIM\"],sm.add_constant(boston_features[feature_list])).fit()"
   ]
  },
  {
   "cell_type": "code",
   "execution_count": 21,
   "metadata": {},
   "outputs": [
    {
     "data": {
      "text/html": [
       "<table class=\"simpletable\">\n",
       "<caption>OLS Regression Results</caption>\n",
       "<tr>\n",
       "  <th>Dep. Variable:</th>          <td>CRIM</td>       <th>  R-squared:         </th> <td>   0.829</td> \n",
       "</tr>\n",
       "<tr>\n",
       "  <th>Model:</th>                   <td>OLS</td>       <th>  Adj. R-squared:    </th> <td>   0.827</td> \n",
       "</tr>\n",
       "<tr>\n",
       "  <th>Method:</th>             <td>Least Squares</td>  <th>  F-statistic:       </th> <td>   403.3</td> \n",
       "</tr>\n",
       "<tr>\n",
       "  <th>Date:</th>             <td>Sun, 05 May 2019</td> <th>  Prob (F-statistic):</th> <td>8.86e-188</td>\n",
       "</tr>\n",
       "<tr>\n",
       "  <th>Time:</th>                 <td>19:36:04</td>     <th>  Log-Likelihood:    </th> <td>  481.17</td> \n",
       "</tr>\n",
       "<tr>\n",
       "  <th>No. Observations:</th>      <td>   506</td>      <th>  AIC:               </th> <td>  -948.3</td> \n",
       "</tr>\n",
       "<tr>\n",
       "  <th>Df Residuals:</th>          <td>   499</td>      <th>  BIC:               </th> <td>  -918.8</td> \n",
       "</tr>\n",
       "<tr>\n",
       "  <th>Df Model:</th>              <td>     6</td>      <th>                     </th>     <td> </td>    \n",
       "</tr>\n",
       "<tr>\n",
       "  <th>Covariance Type:</th>      <td>nonrobust</td>    <th>                     </th>     <td> </td>    \n",
       "</tr>\n",
       "</table>\n",
       "<table class=\"simpletable\">\n",
       "<tr>\n",
       "        <td></td>          <th>coef</th>     <th>std err</th>      <th>t</th>      <th>P>|t|</th>  <th>[0.025</th>    <th>0.975]</th>  \n",
       "</tr>\n",
       "<tr>\n",
       "  <th>const</th>        <td>    0.4907</td> <td>    0.014</td> <td>   33.908</td> <td> 0.000</td> <td>    0.462</td> <td>    0.519</td>\n",
       "</tr>\n",
       "<tr>\n",
       "  <th>DIS</th>          <td>   -0.3372</td> <td>    0.028</td> <td>  -12.006</td> <td> 0.000</td> <td>   -0.392</td> <td>   -0.282</td>\n",
       "</tr>\n",
       "<tr>\n",
       "  <th>RAD_(6, 24]</th>  <td>    0.3421</td> <td>    0.008</td> <td>   43.309</td> <td> 0.000</td> <td>    0.327</td> <td>    0.358</td>\n",
       "</tr>\n",
       "<tr>\n",
       "  <th>RAD_(0, 6]</th>   <td>    0.1486</td> <td>    0.010</td> <td>   15.236</td> <td> 0.000</td> <td>    0.129</td> <td>    0.168</td>\n",
       "</tr>\n",
       "<tr>\n",
       "  <th>INDUS</th>        <td>    0.0430</td> <td>    0.007</td> <td>    6.051</td> <td> 0.000</td> <td>    0.029</td> <td>    0.057</td>\n",
       "</tr>\n",
       "<tr>\n",
       "  <th>B</th>            <td>   -0.1081</td> <td>    0.020</td> <td>   -5.322</td> <td> 0.000</td> <td>   -0.148</td> <td>   -0.068</td>\n",
       "</tr>\n",
       "<tr>\n",
       "  <th>LSTAT</th>        <td>    0.0243</td> <td>    0.005</td> <td>    4.426</td> <td> 0.000</td> <td>    0.014</td> <td>    0.035</td>\n",
       "</tr>\n",
       "<tr>\n",
       "  <th>TAX_(0, 270]</th> <td>   -0.0428</td> <td>    0.012</td> <td>   -3.564</td> <td> 0.000</td> <td>   -0.066</td> <td>   -0.019</td>\n",
       "</tr>\n",
       "</table>\n",
       "<table class=\"simpletable\">\n",
       "<tr>\n",
       "  <th>Omnibus:</th>       <td> 4.253</td> <th>  Durbin-Watson:     </th> <td>   0.548</td>\n",
       "</tr>\n",
       "<tr>\n",
       "  <th>Prob(Omnibus):</th> <td> 0.119</td> <th>  Jarque-Bera (JB):  </th> <td>   4.311</td>\n",
       "</tr>\n",
       "<tr>\n",
       "  <th>Skew:</th>          <td>-0.223</td> <th>  Prob(JB):          </th> <td>   0.116</td>\n",
       "</tr>\n",
       "<tr>\n",
       "  <th>Kurtosis:</th>      <td> 2.921</td> <th>  Cond. No.          </th> <td>2.95e+16</td>\n",
       "</tr>\n",
       "</table><br/><br/>Warnings:<br/>[1] Standard Errors assume that the covariance matrix of the errors is correctly specified.<br/>[2] The smallest eigenvalue is 1.57e-30. This might indicate that there are<br/>strong multicollinearity problems or that the design matrix is singular."
      ],
      "text/plain": [
       "<class 'statsmodels.iolib.summary.Summary'>\n",
       "\"\"\"\n",
       "                            OLS Regression Results                            \n",
       "==============================================================================\n",
       "Dep. Variable:                   CRIM   R-squared:                       0.829\n",
       "Model:                            OLS   Adj. R-squared:                  0.827\n",
       "Method:                 Least Squares   F-statistic:                     403.3\n",
       "Date:                Sun, 05 May 2019   Prob (F-statistic):          8.86e-188\n",
       "Time:                        19:36:04   Log-Likelihood:                 481.17\n",
       "No. Observations:                 506   AIC:                            -948.3\n",
       "Df Residuals:                     499   BIC:                            -918.8\n",
       "Df Model:                           6                                         \n",
       "Covariance Type:            nonrobust                                         \n",
       "================================================================================\n",
       "                   coef    std err          t      P>|t|      [0.025      0.975]\n",
       "--------------------------------------------------------------------------------\n",
       "const            0.4907      0.014     33.908      0.000       0.462       0.519\n",
       "DIS             -0.3372      0.028    -12.006      0.000      -0.392      -0.282\n",
       "RAD_(6, 24]      0.3421      0.008     43.309      0.000       0.327       0.358\n",
       "RAD_(0, 6]       0.1486      0.010     15.236      0.000       0.129       0.168\n",
       "INDUS            0.0430      0.007      6.051      0.000       0.029       0.057\n",
       "B               -0.1081      0.020     -5.322      0.000      -0.148      -0.068\n",
       "LSTAT            0.0243      0.005      4.426      0.000       0.014       0.035\n",
       "TAX_(0, 270]    -0.0428      0.012     -3.564      0.000      -0.066      -0.019\n",
       "==============================================================================\n",
       "Omnibus:                        4.253   Durbin-Watson:                   0.548\n",
       "Prob(Omnibus):                  0.119   Jarque-Bera (JB):                4.311\n",
       "Skew:                          -0.223   Prob(JB):                        0.116\n",
       "Kurtosis:                       2.921   Cond. No.                     2.95e+16\n",
       "==============================================================================\n",
       "\n",
       "Warnings:\n",
       "[1] Standard Errors assume that the covariance matrix of the errors is correctly specified.\n",
       "[2] The smallest eigenvalue is 1.57e-30. This might indicate that there are\n",
       "strong multicollinearity problems or that the design matrix is singular.\n",
       "\"\"\""
      ]
     },
     "execution_count": 21,
     "metadata": {},
     "output_type": "execute_result"
    }
   ],
   "source": [
    "final_model.summary()"
   ]
  },
  {
   "cell_type": "markdown",
   "metadata": {},
   "source": [
    "Where our stepwise procedure mentions that \"CHAS\" was added with a p-value of 0.00151282, but our statsmodels output returns a p-value of 0.000. What is the intuition behind this?"
   ]
  },
  {
   "cell_type": "markdown",
   "metadata": {},
   "source": [
    "## Use Feature ranking with recursive feature elimination"
   ]
  },
  {
   "cell_type": "markdown",
   "metadata": {},
   "source": [
    "Use feature ranking to select the 5 most important features"
   ]
  },
  {
   "cell_type": "code",
   "execution_count": 22,
   "metadata": {},
   "outputs": [],
   "source": [
    "from sklearn.feature_selection import RFE\n",
    "from sklearn.linear_model import LinearRegression\n",
    "\n",
    "linreg = LinearRegression()\n",
    "selector = RFE(linreg, n_features_to_select = 2)\n",
    "selector = selector.fit(predictors, y)"
   ]
  },
  {
   "cell_type": "code",
   "execution_count": 23,
   "metadata": {
    "scrolled": true
   },
   "outputs": [
    {
     "data": {
      "text/plain": [
       "array([False, False, False, False,  True, False, False, False, False,\n",
       "        True, False, False, False])"
      ]
     },
     "execution_count": 23,
     "metadata": {},
     "output_type": "execute_result"
    }
   ],
   "source": [
    "selector.support_ "
   ]
  },
  {
   "cell_type": "code",
   "execution_count": 24,
   "metadata": {
    "scrolled": true
   },
   "outputs": [
    {
     "data": {
      "text/plain": [
       "array([ 4,  9, 11,  8,  1, 10,  2,  6,  3,  1,  5, 12,  7])"
      ]
     },
     "execution_count": 24,
     "metadata": {},
     "output_type": "execute_result"
    }
   ],
   "source": [
    "selector.ranking_"
   ]
  },
  {
   "cell_type": "code",
   "execution_count": null,
   "metadata": {},
   "outputs": [],
   "source": [
    "estimators = selector.estimator_\n",
    "print(estimators.coef_)\n",
    "print(estimators.intercept_)"
   ]
  },
  {
   "cell_type": "markdown",
   "metadata": {},
   "source": [
    "Fit the linear regression model again using the 5 columns selected"
   ]
  },
  {
   "cell_type": "code",
   "execution_count": 33,
   "metadata": {},
   "outputs": [
    {
     "data": {
      "text/plain": [
       "LinearRegression(copy_X=True, fit_intercept=True, n_jobs=None,\n",
       "         normalize=False)"
      ]
     },
     "execution_count": 33,
     "metadata": {},
     "output_type": "execute_result"
    }
   ],
   "source": [
    "sk_model = LinearRegression()\n",
    "predictors_sk = boston_features.loc[:,selector.support_ ]\n",
    "sk_model.fit(predictors_sk,boston_features.CRIM)"
   ]
  },
  {
   "cell_type": "markdown",
   "metadata": {},
   "source": [
    "Now, predict $\\hat y$ using your model. you can use `.predict()` in scikit-learn"
   ]
  },
  {
   "cell_type": "code",
   "execution_count": 34,
   "metadata": {},
   "outputs": [
    {
     "data": {
      "text/plain": [
       "array([0.34530341, 0.39709763, 0.32980295, 0.27195977, 0.30371681,\n",
       "       0.32072951, 0.35059625, 0.46212395, 0.47686829, 0.42356183,\n",
       "       0.45531887, 0.41222003, 0.24625169, 0.33244937, 0.41826899,\n",
       "       0.31241219, 0.20957987, 0.40768331, 0.23717825, 0.36155999,\n",
       "       0.46968515, 0.43603781, 0.44548931, 0.47686829, 0.45456275,\n",
       "       0.42280571, 0.44019647, 0.43452557, 0.45569693, 0.42885467,\n",
       "       0.45456275, 0.47686829, 0.40881749, 0.45796529, 0.46514843,\n",
       "       0.35664521, 0.33093713, 0.25570319, 0.21298241, 0.18122537,\n",
       "       0.15854177, 0.10977203, 0.12376025, 0.12338219, 0.25003229,\n",
       "       0.22659257, 0.22470227, 0.42204959, 0.45909947, 0.33320549,\n",
       "       0.27158171, 0.33698609, 0.17857895, 0.17971313, 0.27876485,\n",
       "       0.18160343, 0.23377571, 0.25192259, 0.47351806, 0.54156886,\n",
       "       0.61340025, 0.71623257, 0.61944921, 0.52720258, 0.32375399,\n",
       "       0.16610297, 0.21638495, 0.17971313, 0.23793437, 0.22356809,\n",
       "       0.12376025, 0.16496879, 0.12829697, 0.12224801, 0.12149189,\n",
       "       0.26893529, 0.38046299, 0.27195977, 0.30182651, 0.23717825,\n",
       "       0.22545839, 0.36496253, 0.22054361, 0.27536231, 0.28027709,\n",
       "       0.31089995, 0.26931335, 0.31354637, 0.42507407, 0.33736415,\n",
       "       0.34870595, 0.37819463, 0.30144845, 0.20806763, 0.39104867,\n",
       "       0.31732697, 0.36193805, 0.38613389, 0.23831243, 0.33509579,\n",
       "       0.40087823, 0.36836507, 0.42167153, 0.42923273, 0.43906229,\n",
       "       0.46439231, 0.44624543, 0.42091541, 0.46590455, 0.44359901,\n",
       "       0.30447293, 0.40730525, 0.45002603, 0.45947753, 0.41713481,\n",
       "       0.43225721, 0.37290179, 0.41108585, 0.37517015, 0.34530341,\n",
       "       0.36231611, 0.41675675, 0.45002603, 0.46552649, 0.46098977,\n",
       "       0.43301333, 0.46023365, 0.46174589, 0.47233157, 0.45683111,\n",
       "       0.47270963, 0.46817291, 0.46892903, 0.45947753, 0.47081933,\n",
       "       0.47006321, 0.45229439, 0.47081933, 0.47006321, 0.46892903,\n",
       "       0.45267245, 0.47686829, 0.47686829, 0.47686829, 0.46855097,\n",
       "       0.47686829, 0.47686829, 0.46061171, 0.45342857, 0.45758723,\n",
       "       0.46666067, 0.47686829, 0.43150109, 0.47119739, 0.46174589,\n",
       "       0.41108585, 0.45418469, 0.46703873, 0.47686829, 0.47686829,\n",
       "       0.44889185, 0.44208677, 0.47006321, 0.45380663, 0.44586737,\n",
       "       0.45040409, 0.46250201, 0.39823181, 0.46212395, 0.45872141,\n",
       "       0.45645305, 0.46666067, 0.43339139, 0.41675675, 0.35853551,\n",
       "       0.22394615, 0.27725261, 0.37630433, 0.38008493, 0.31959533,\n",
       "       0.41373227, 0.33396161, 0.44737961, 0.46023365, 0.43830617,\n",
       "       0.35891357, 0.30144845, 0.25419095, 0.20882375, 0.24587363,\n",
       "       0.18009119, 0.21525077, 0.19823807, 0.13623623, 0.16988357,\n",
       "       0.21978749, 0.22772675, 0.23717825, 0.24360527, 0.15665147,\n",
       "       0.15135863, 0.24398333, 0.15816371, 0.22432421, 0.21940943,\n",
       "       0.18311567, 0.29728979, 0.37365791, 0.32224175, 0.47686829,\n",
       "       0.44700155, 0.43376945, 0.30220457, 0.22092167, 0.13585817,\n",
       "       0.25910573, 0.31052189, 0.42053735, 0.45342857, 0.44813573,\n",
       "       0.69770763, 0.70829331, 0.65687715, 0.66859701, 0.65914551,\n",
       "       0.67691433, 0.69014643, 0.66519447, 0.42739474, 0.44402938,\n",
       "       0.62058339, 0.65385267, 0.64024251, 0.62927877, 0.61453443,\n",
       "       0.59563143, 0.65234043, 0.63381549, 0.16874939, 0.25834961,\n",
       "       0.30409487, 0.34492535, 0.29880203, 0.12829697, 0.65234043,\n",
       "       0.62852265, 0.49506748, 0.66254805, 0.548752  , 0.42928504,\n",
       "       0.41227234, 0.39677188, 0.38883262, 0.39488158, 0.21978749,\n",
       "       0.17101775, 0.22810481, 0.42734243, 0.47686829, 0.47686829,\n",
       "       0.40806137, 0.43679393, 0.44473319, 0.45607499, 0.44511125,\n",
       "       0.33622997, 0.41864705, 0.35210849, 0.29766785, 0.33131519,\n",
       "       0.25797155, 0.16043207, 0.32072951, 0.29464337, 0.22319003,\n",
       "       0.26061797, 0.28405769, 0.20315285, 0.22016555, 0.22054361,\n",
       "       0.34265699, 0.23944661, 0.28670411, 0.19256717, 0.17744477,\n",
       "       0.21940943, 0.21789719, 0.21714107, 0.27120365, 0.18538403,\n",
       "       0.20428703, 0.20353091, 0.18727433, 0.16837133, 0.25872767,\n",
       "       0.21638495, 0.29161889, 0.31808309, 0.17479835, 0.13661429,\n",
       "       0.27800873, 0.51586078, 0.43268758, 0.43004116, 0.5185072 ,\n",
       "       0.58277739, 0.63494967, 0.62890071, 0.41070779, 0.38878031,\n",
       "       0.24171497, 0.29842397, 0.44057453, 0.41184197, 0.42885467,\n",
       "       0.39256091, 0.41335421, 0.36987731, 0.35286461, 0.32110757,\n",
       "       0.29653367, 0.30409487, 0.28746023, 0.37970687, 0.25041035,\n",
       "       0.15438311, 0.20806763, 0.26402051, 0.19634777, 0.16383461,\n",
       "       0.22054361, 0.20617733, 0.18689627, 0.24284915, 0.24436139,\n",
       "       0.22923899, 0.27385007, 0.32413205, 0.23982467, 0.27044753,\n",
       "       0.31997339, 0.28519187, 0.32451011, 0.31203413, 0.20504315,\n",
       "       0.28216739, 0.29653367, 0.20353091, 0.21109211, 0.22923899,\n",
       "       0.26666693, 0.23453183, 0.16874939, 0.23528795, 0.18160343,\n",
       "       0.17252999, 0.73135497, 0.70715913, 0.67842657, 0.67048731,\n",
       "       0.69581733, 0.70753719, 0.72681825, 0.69959793, 0.67653627,\n",
       "       0.69543927, 0.70867137, 0.74118453, 0.74118453, 0.72908661,\n",
       "       0.73173303, 0.74118453, 0.70186629, 0.74118453, 0.74118453,\n",
       "       0.73324527, 0.71585451, 0.73664781, 0.72681825, 0.74118453,\n",
       "       0.71056167, 0.73778199, 0.74118453, 0.74118453, 0.70791525,\n",
       "       0.73400139, 0.74118453, 0.70148823, 0.74118453, 0.73702587,\n",
       "       0.72984273, 0.67502403, 0.72984273, 0.71320809, 0.72114735,\n",
       "       0.73664781, 0.72606213, 0.73702587, 0.74118453, 0.65725521,\n",
       "       0.74118453, 0.74118453, 0.74118453, 0.72606213, 0.68598777,\n",
       "       0.74118453, 0.74118453, 0.74118453, 0.73324527, 0.74118453,\n",
       "       0.74118453, 0.74118453, 0.74118453, 0.74118453, 0.74118453,\n",
       "       0.74118453, 0.70640301, 0.69997599, 0.74118453, 0.65234043,\n",
       "       0.74118453, 0.72341571, 0.69430509, 0.68485359, 0.63003489,\n",
       "       0.72379377, 0.58882635, 0.66065775, 0.65838939, 0.72454989,\n",
       "       0.68863419, 0.71963511, 0.64591341, 0.69543927, 0.72228153,\n",
       "       0.72076929, 0.71585451, 0.74118453, 0.69543927, 0.71812287,\n",
       "       0.71245197, 0.73059885, 0.74118453, 0.74118453, 0.72833049,\n",
       "       0.72152541, 0.72757437, 0.72833049, 0.73626975, 0.73475751,\n",
       "       0.71320809, 0.73437945, 0.71018361, 0.73853811, 0.71887899,\n",
       "       0.69014643, 0.69543927, 0.66670671, 0.67956075, 0.68220717,\n",
       "       0.70337853, 0.69732957, 0.67691433, 0.70300047, 0.61037577,\n",
       "       0.54534946, 0.68334135, 0.72039123, 0.63154713, 0.57748456,\n",
       "       0.68069493, 0.70602495, 0.64666953, 0.61869309, 0.72379377,\n",
       "       0.73135497, 0.71698869, 0.73097691, 0.72870855, 0.69581733,\n",
       "       0.60772935, 0.64629147, 0.65423073, 0.51548272, 0.52153168,\n",
       "       0.55933768, 0.66481641, 0.56425246, 0.44926991, 0.47044127,\n",
       "       0.46930709, 0.47233157, 0.41448839, 0.30296069, 0.25986185,\n",
       "       0.20768957, 0.37441403, 0.36571865, 0.34568147, 0.37668239,\n",
       "       0.40012211, 0.36004775, 0.38878031, 0.44284289, 0.43641587,\n",
       "       0.40428077])"
      ]
     },
     "execution_count": 34,
     "metadata": {},
     "output_type": "execute_result"
    }
   ],
   "source": [
    "sk_predictions = sk_model.predict(predictors_sk)"
   ]
  },
  {
   "cell_type": "code",
   "execution_count": null,
   "metadata": {},
   "outputs": [],
   "source": []
  },
  {
   "cell_type": "markdown",
   "metadata": {},
   "source": [
    "Now, using the formulas of R-squared and adjusted-R-squared below, and your Python/numpy knowledge, compute them and contrast them with the R-squared and adjusted-R-squared in your statsmodels output using stepwise selection. Which of the two models would you prefer?"
   ]
  },
  {
   "cell_type": "markdown",
   "metadata": {},
   "source": [
    "$SS_{residual} = \\sum (y - \\hat{y})^2 $\n",
    "\n",
    "$SS_{total} = \\sum (y - \\bar{y})^2 $\n",
    "\n",
    "$R^2 = 1- \\dfrac{SS_{residual}}{SS_{total}}$\n",
    "\n",
    "$R^2_{adj}= 1-(1-R^2)\\dfrac{n-1}{n-p-1}$"
   ]
  },
  {
   "cell_type": "code",
   "execution_count": null,
   "metadata": {},
   "outputs": [],
   "source": []
  },
  {
   "cell_type": "code",
   "execution_count": null,
   "metadata": {},
   "outputs": [],
   "source": []
  },
  {
   "cell_type": "code",
   "execution_count": null,
   "metadata": {},
   "outputs": [],
   "source": []
  },
  {
   "cell_type": "markdown",
   "metadata": {},
   "source": [
    "## Level up - Optional"
   ]
  },
  {
   "cell_type": "markdown",
   "metadata": {},
   "source": [
    "- Perform variable selection using forward selection, using this resource: https://planspace.org/20150423-forward_selection_with_statsmodels/. Note that this time features are added based on the adjusted-R-squared!\n",
    "- Tweak the code in the `stepwise_selection()`-function written above to just perform forward selection based on the p-value."
   ]
  },
  {
   "cell_type": "markdown",
   "metadata": {},
   "source": [
    "## Summary\n",
    "Great! You now performed your own feature selection methods!"
   ]
  }
 ],
 "metadata": {
  "kernelspec": {
   "display_name": "Python 3",
   "language": "python",
   "name": "python3"
  },
  "language_info": {
   "codemirror_mode": {
    "name": "ipython",
    "version": 3
   },
   "file_extension": ".py",
   "mimetype": "text/x-python",
   "name": "python",
   "nbconvert_exporter": "python",
   "pygments_lexer": "ipython3",
   "version": "3.6.6"
  }
 },
 "nbformat": 4,
 "nbformat_minor": 2
}
